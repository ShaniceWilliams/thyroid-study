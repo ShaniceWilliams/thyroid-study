{
 "cells": [
  {
   "metadata": {},
   "cell_type": "markdown",
   "source": "# Predicting Thyroid Cancer Recurrence - Model Building",
   "id": "f702818cc5eaffd8"
  },
  {
   "metadata": {},
   "cell_type": "markdown",
   "source": [
    "### Purpose of this notebook\n",
    "To explore the models that were used for this study, optimise feature selection and find the most performant models."
   ],
   "id": "d5749a87426281ef"
  },
  {
   "metadata": {},
   "cell_type": "markdown",
   "source": "## 1. Imports and Loading data",
   "id": "8d393b7fa5a64ab4"
  },
  {
   "metadata": {},
   "cell_type": "code",
   "outputs": [],
   "execution_count": null,
   "source": [
    "# imports\n",
    "import pandas as pd\n",
    "import numpy as np\n",
    "import matplotlib.pyplot as plt\n",
    "import seaborn as sns\n",
    "\n",
    "# SciKit-learn imports\n",
    "from sklearn.model_selection import train_test_split\n"
   ],
   "id": "feddd0b2050665fb"
  },
  {
   "cell_type": "code",
   "execution_count": null,
   "id": "initial_id",
   "metadata": {
    "collapsed": true
   },
   "outputs": [],
   "source": [
    "file_path = \"../data/raw/Thyroid_Diff.csv\"\n",
    "df = pd.read_csv(file_path)"
   ]
  }
 ],
 "metadata": {
  "kernelspec": {
   "display_name": "Python 3",
   "language": "python",
   "name": "python3"
  },
  "language_info": {
   "codemirror_mode": {
    "name": "ipython",
    "version": 2
   },
   "file_extension": ".py",
   "mimetype": "text/x-python",
   "name": "python",
   "nbconvert_exporter": "python",
   "pygments_lexer": "ipython2",
   "version": "2.7.6"
  }
 },
 "nbformat": 4,
 "nbformat_minor": 5
}
