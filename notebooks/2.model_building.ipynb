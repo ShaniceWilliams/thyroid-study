{
 "cells": [
  {
   "cell_type": "markdown",
   "id": "f702818cc5eaffd8",
   "metadata": {},
   "source": [
    "# Predicting Thyroid Cancer Recurrence - Model Building"
   ]
  },
  {
   "cell_type": "markdown",
   "id": "d5749a87426281ef",
   "metadata": {},
   "source": [
    "### Purpose of this notebook\n",
    "To explore the models that were used for this study, optimise feature selection and find the most performant models."
   ]
  },
  {
   "cell_type": "markdown",
   "id": "8d393b7fa5a64ab4",
   "metadata": {},
   "source": [
    "## 1. Imports and Loading data"
   ]
  },
  {
   "cell_type": "code",
   "id": "feddd0b2050665fb",
   "metadata": {
    "ExecuteTime": {
     "end_time": "2024-08-25T23:42:36.112705Z",
     "start_time": "2024-08-25T23:42:36.110023Z"
    }
   },
   "source": [
    "# imports\n",
    "import pandas as pd\n",
    "import numpy as np\n",
    "import matplotlib.pyplot as plt\n",
    "import seaborn as sns\n",
    "\n",
    "# SciKit-learn imports\n",
    "from sklearn.model_selection import train_test_split\n",
    "\n",
    "# imports for encoding\n",
    "from sklearn.preprocessing import OneHotEncoder, OrdinalEncoder, StandardScaler, LabelEncoder\n",
    "from sklearn.compose import ColumnTransformer\n",
    "\n",
    "# imports for metrics\n",
    "from sklearn.metrics import confusion_matrix, accuracy_score, precision_score, recall_score, f1_score, roc_curve, auc \n",
    "\n",
    "#imports for models\n",
    "from sklearn.linear_model import LogisticRegression\n",
    "from sklearn.svm import SVC\n",
    "from sklearn.tree import DecisionTreeClassifier\n",
    "from sklearn.ensemble import RandomForestClassifier\n",
    "from sklearn.neighbors import KNeighborsClassifier"
   ],
   "outputs": [],
   "execution_count": 33
  },
  {
   "cell_type": "code",
   "id": "initial_id",
   "metadata": {
    "collapsed": true,
    "ExecuteTime": {
     "end_time": "2024-08-25T23:42:36.170841Z",
     "start_time": "2024-08-25T23:42:36.157308Z"
    }
   },
   "source": [
    "file_path = \"../data/raw/Thyroid_Diff.csv\"\n",
    "df = pd.read_csv(file_path)"
   ],
   "outputs": [],
   "execution_count": 34
  },
  {
   "cell_type": "markdown",
   "id": "eb8d045d6bc7f176",
   "metadata": {},
   "source": [
    "## 2. Data Transformation"
   ]
  },
  {
   "cell_type": "markdown",
   "id": "676868ee16987d7c",
   "metadata": {},
   "source": [
    "What transformations are required?\n",
    "- Update Hx Radiotherapy spelling error\n",
    "- Use the pipeline established in the EDA to transform categorical daata into numerical form\n",
    "- Establish if transformation of the numerical field is necessary based on the types of models that will be used.\n",
    "- transformation of the class variable"
   ]
  },
  {
   "metadata": {
    "ExecuteTime": {
     "end_time": "2024-08-25T23:42:36.182441Z",
     "start_time": "2024-08-25T23:42:36.171873Z"
    }
   },
   "cell_type": "code",
   "source": "df.head()",
   "id": "87340307f635e43e",
   "outputs": [
    {
     "data": {
      "text/plain": [
       "   Age Gender Smoking Hx Smoking Hx Radiothreapy Thyroid Function  \\\n",
       "0   27      F      No         No              No        Euthyroid   \n",
       "1   34      F      No        Yes              No        Euthyroid   \n",
       "2   30      F      No         No              No        Euthyroid   \n",
       "3   62      F      No         No              No        Euthyroid   \n",
       "4   62      F      No         No              No        Euthyroid   \n",
       "\n",
       "          Physical Examination Adenopathy       Pathology     Focality Risk  \\\n",
       "0   Single nodular goiter-left         No  Micropapillary    Uni-Focal  Low   \n",
       "1          Multinodular goiter         No  Micropapillary    Uni-Focal  Low   \n",
       "2  Single nodular goiter-right         No  Micropapillary    Uni-Focal  Low   \n",
       "3  Single nodular goiter-right         No  Micropapillary    Uni-Focal  Low   \n",
       "4          Multinodular goiter         No  Micropapillary  Multi-Focal  Low   \n",
       "\n",
       "     T   N   M Stage       Response Recurred  \n",
       "0  T1a  N0  M0     I  Indeterminate       No  \n",
       "1  T1a  N0  M0     I      Excellent       No  \n",
       "2  T1a  N0  M0     I      Excellent       No  \n",
       "3  T1a  N0  M0     I      Excellent       No  \n",
       "4  T1a  N0  M0     I      Excellent       No  "
      ],
      "text/html": [
       "<div>\n",
       "<style scoped>\n",
       "    .dataframe tbody tr th:only-of-type {\n",
       "        vertical-align: middle;\n",
       "    }\n",
       "\n",
       "    .dataframe tbody tr th {\n",
       "        vertical-align: top;\n",
       "    }\n",
       "\n",
       "    .dataframe thead th {\n",
       "        text-align: right;\n",
       "    }\n",
       "</style>\n",
       "<table border=\"1\" class=\"dataframe\">\n",
       "  <thead>\n",
       "    <tr style=\"text-align: right;\">\n",
       "      <th></th>\n",
       "      <th>Age</th>\n",
       "      <th>Gender</th>\n",
       "      <th>Smoking</th>\n",
       "      <th>Hx Smoking</th>\n",
       "      <th>Hx Radiothreapy</th>\n",
       "      <th>Thyroid Function</th>\n",
       "      <th>Physical Examination</th>\n",
       "      <th>Adenopathy</th>\n",
       "      <th>Pathology</th>\n",
       "      <th>Focality</th>\n",
       "      <th>Risk</th>\n",
       "      <th>T</th>\n",
       "      <th>N</th>\n",
       "      <th>M</th>\n",
       "      <th>Stage</th>\n",
       "      <th>Response</th>\n",
       "      <th>Recurred</th>\n",
       "    </tr>\n",
       "  </thead>\n",
       "  <tbody>\n",
       "    <tr>\n",
       "      <th>0</th>\n",
       "      <td>27</td>\n",
       "      <td>F</td>\n",
       "      <td>No</td>\n",
       "      <td>No</td>\n",
       "      <td>No</td>\n",
       "      <td>Euthyroid</td>\n",
       "      <td>Single nodular goiter-left</td>\n",
       "      <td>No</td>\n",
       "      <td>Micropapillary</td>\n",
       "      <td>Uni-Focal</td>\n",
       "      <td>Low</td>\n",
       "      <td>T1a</td>\n",
       "      <td>N0</td>\n",
       "      <td>M0</td>\n",
       "      <td>I</td>\n",
       "      <td>Indeterminate</td>\n",
       "      <td>No</td>\n",
       "    </tr>\n",
       "    <tr>\n",
       "      <th>1</th>\n",
       "      <td>34</td>\n",
       "      <td>F</td>\n",
       "      <td>No</td>\n",
       "      <td>Yes</td>\n",
       "      <td>No</td>\n",
       "      <td>Euthyroid</td>\n",
       "      <td>Multinodular goiter</td>\n",
       "      <td>No</td>\n",
       "      <td>Micropapillary</td>\n",
       "      <td>Uni-Focal</td>\n",
       "      <td>Low</td>\n",
       "      <td>T1a</td>\n",
       "      <td>N0</td>\n",
       "      <td>M0</td>\n",
       "      <td>I</td>\n",
       "      <td>Excellent</td>\n",
       "      <td>No</td>\n",
       "    </tr>\n",
       "    <tr>\n",
       "      <th>2</th>\n",
       "      <td>30</td>\n",
       "      <td>F</td>\n",
       "      <td>No</td>\n",
       "      <td>No</td>\n",
       "      <td>No</td>\n",
       "      <td>Euthyroid</td>\n",
       "      <td>Single nodular goiter-right</td>\n",
       "      <td>No</td>\n",
       "      <td>Micropapillary</td>\n",
       "      <td>Uni-Focal</td>\n",
       "      <td>Low</td>\n",
       "      <td>T1a</td>\n",
       "      <td>N0</td>\n",
       "      <td>M0</td>\n",
       "      <td>I</td>\n",
       "      <td>Excellent</td>\n",
       "      <td>No</td>\n",
       "    </tr>\n",
       "    <tr>\n",
       "      <th>3</th>\n",
       "      <td>62</td>\n",
       "      <td>F</td>\n",
       "      <td>No</td>\n",
       "      <td>No</td>\n",
       "      <td>No</td>\n",
       "      <td>Euthyroid</td>\n",
       "      <td>Single nodular goiter-right</td>\n",
       "      <td>No</td>\n",
       "      <td>Micropapillary</td>\n",
       "      <td>Uni-Focal</td>\n",
       "      <td>Low</td>\n",
       "      <td>T1a</td>\n",
       "      <td>N0</td>\n",
       "      <td>M0</td>\n",
       "      <td>I</td>\n",
       "      <td>Excellent</td>\n",
       "      <td>No</td>\n",
       "    </tr>\n",
       "    <tr>\n",
       "      <th>4</th>\n",
       "      <td>62</td>\n",
       "      <td>F</td>\n",
       "      <td>No</td>\n",
       "      <td>No</td>\n",
       "      <td>No</td>\n",
       "      <td>Euthyroid</td>\n",
       "      <td>Multinodular goiter</td>\n",
       "      <td>No</td>\n",
       "      <td>Micropapillary</td>\n",
       "      <td>Multi-Focal</td>\n",
       "      <td>Low</td>\n",
       "      <td>T1a</td>\n",
       "      <td>N0</td>\n",
       "      <td>M0</td>\n",
       "      <td>I</td>\n",
       "      <td>Excellent</td>\n",
       "      <td>No</td>\n",
       "    </tr>\n",
       "  </tbody>\n",
       "</table>\n",
       "</div>"
      ]
     },
     "execution_count": 35,
     "metadata": {},
     "output_type": "execute_result"
    }
   ],
   "execution_count": 35
  },
  {
   "cell_type": "code",
   "id": "06dd1c33",
   "metadata": {
    "ExecuteTime": {
     "end_time": "2024-08-25T23:42:36.192720Z",
     "start_time": "2024-08-25T23:42:36.183618Z"
    }
   },
   "source": "df.rename(columns={\"Hx Radiothreapy\":\"Hx Radiotherapy\"})",
   "outputs": [
    {
     "data": {
      "text/plain": [
       "     Age Gender Smoking Hx Smoking Hx Radiotherapy          Thyroid Function  \\\n",
       "0     27      F      No         No              No                 Euthyroid   \n",
       "1     34      F      No        Yes              No                 Euthyroid   \n",
       "2     30      F      No         No              No                 Euthyroid   \n",
       "3     62      F      No         No              No                 Euthyroid   \n",
       "4     62      F      No         No              No                 Euthyroid   \n",
       "..   ...    ...     ...        ...             ...                       ...   \n",
       "378   72      M     Yes        Yes             Yes                 Euthyroid   \n",
       "379   81      M     Yes         No             Yes                 Euthyroid   \n",
       "380   72      M     Yes        Yes              No                 Euthyroid   \n",
       "381   61      M     Yes        Yes             Yes  Clinical Hyperthyroidism   \n",
       "382   67      M     Yes         No              No                 Euthyroid   \n",
       "\n",
       "            Physical Examination Adenopathy       Pathology     Focality  \\\n",
       "0     Single nodular goiter-left         No  Micropapillary    Uni-Focal   \n",
       "1            Multinodular goiter         No  Micropapillary    Uni-Focal   \n",
       "2    Single nodular goiter-right         No  Micropapillary    Uni-Focal   \n",
       "3    Single nodular goiter-right         No  Micropapillary    Uni-Focal   \n",
       "4            Multinodular goiter         No  Micropapillary  Multi-Focal   \n",
       "..                           ...        ...             ...          ...   \n",
       "378  Single nodular goiter-right      Right       Papillary    Uni-Focal   \n",
       "379          Multinodular goiter  Extensive       Papillary  Multi-Focal   \n",
       "380          Multinodular goiter  Bilateral       Papillary  Multi-Focal   \n",
       "381          Multinodular goiter  Extensive    Hurthel cell  Multi-Focal   \n",
       "382          Multinodular goiter  Bilateral       Papillary  Multi-Focal   \n",
       "\n",
       "     Risk    T    N   M Stage                Response Recurred  \n",
       "0     Low  T1a   N0  M0     I           Indeterminate       No  \n",
       "1     Low  T1a   N0  M0     I               Excellent       No  \n",
       "2     Low  T1a   N0  M0     I               Excellent       No  \n",
       "3     Low  T1a   N0  M0     I               Excellent       No  \n",
       "4     Low  T1a   N0  M0     I               Excellent       No  \n",
       "..    ...  ...  ...  ..   ...                     ...      ...  \n",
       "378  High  T4b  N1b  M1   IVB  Biochemical Incomplete      Yes  \n",
       "379  High  T4b  N1b  M1   IVB   Structural Incomplete      Yes  \n",
       "380  High  T4b  N1b  M1   IVB   Structural Incomplete      Yes  \n",
       "381  High  T4b  N1b  M0   IVA   Structural Incomplete      Yes  \n",
       "382  High  T4b  N1b  M0   IVA   Structural Incomplete      Yes  \n",
       "\n",
       "[383 rows x 17 columns]"
      ],
      "text/html": [
       "<div>\n",
       "<style scoped>\n",
       "    .dataframe tbody tr th:only-of-type {\n",
       "        vertical-align: middle;\n",
       "    }\n",
       "\n",
       "    .dataframe tbody tr th {\n",
       "        vertical-align: top;\n",
       "    }\n",
       "\n",
       "    .dataframe thead th {\n",
       "        text-align: right;\n",
       "    }\n",
       "</style>\n",
       "<table border=\"1\" class=\"dataframe\">\n",
       "  <thead>\n",
       "    <tr style=\"text-align: right;\">\n",
       "      <th></th>\n",
       "      <th>Age</th>\n",
       "      <th>Gender</th>\n",
       "      <th>Smoking</th>\n",
       "      <th>Hx Smoking</th>\n",
       "      <th>Hx Radiotherapy</th>\n",
       "      <th>Thyroid Function</th>\n",
       "      <th>Physical Examination</th>\n",
       "      <th>Adenopathy</th>\n",
       "      <th>Pathology</th>\n",
       "      <th>Focality</th>\n",
       "      <th>Risk</th>\n",
       "      <th>T</th>\n",
       "      <th>N</th>\n",
       "      <th>M</th>\n",
       "      <th>Stage</th>\n",
       "      <th>Response</th>\n",
       "      <th>Recurred</th>\n",
       "    </tr>\n",
       "  </thead>\n",
       "  <tbody>\n",
       "    <tr>\n",
       "      <th>0</th>\n",
       "      <td>27</td>\n",
       "      <td>F</td>\n",
       "      <td>No</td>\n",
       "      <td>No</td>\n",
       "      <td>No</td>\n",
       "      <td>Euthyroid</td>\n",
       "      <td>Single nodular goiter-left</td>\n",
       "      <td>No</td>\n",
       "      <td>Micropapillary</td>\n",
       "      <td>Uni-Focal</td>\n",
       "      <td>Low</td>\n",
       "      <td>T1a</td>\n",
       "      <td>N0</td>\n",
       "      <td>M0</td>\n",
       "      <td>I</td>\n",
       "      <td>Indeterminate</td>\n",
       "      <td>No</td>\n",
       "    </tr>\n",
       "    <tr>\n",
       "      <th>1</th>\n",
       "      <td>34</td>\n",
       "      <td>F</td>\n",
       "      <td>No</td>\n",
       "      <td>Yes</td>\n",
       "      <td>No</td>\n",
       "      <td>Euthyroid</td>\n",
       "      <td>Multinodular goiter</td>\n",
       "      <td>No</td>\n",
       "      <td>Micropapillary</td>\n",
       "      <td>Uni-Focal</td>\n",
       "      <td>Low</td>\n",
       "      <td>T1a</td>\n",
       "      <td>N0</td>\n",
       "      <td>M0</td>\n",
       "      <td>I</td>\n",
       "      <td>Excellent</td>\n",
       "      <td>No</td>\n",
       "    </tr>\n",
       "    <tr>\n",
       "      <th>2</th>\n",
       "      <td>30</td>\n",
       "      <td>F</td>\n",
       "      <td>No</td>\n",
       "      <td>No</td>\n",
       "      <td>No</td>\n",
       "      <td>Euthyroid</td>\n",
       "      <td>Single nodular goiter-right</td>\n",
       "      <td>No</td>\n",
       "      <td>Micropapillary</td>\n",
       "      <td>Uni-Focal</td>\n",
       "      <td>Low</td>\n",
       "      <td>T1a</td>\n",
       "      <td>N0</td>\n",
       "      <td>M0</td>\n",
       "      <td>I</td>\n",
       "      <td>Excellent</td>\n",
       "      <td>No</td>\n",
       "    </tr>\n",
       "    <tr>\n",
       "      <th>3</th>\n",
       "      <td>62</td>\n",
       "      <td>F</td>\n",
       "      <td>No</td>\n",
       "      <td>No</td>\n",
       "      <td>No</td>\n",
       "      <td>Euthyroid</td>\n",
       "      <td>Single nodular goiter-right</td>\n",
       "      <td>No</td>\n",
       "      <td>Micropapillary</td>\n",
       "      <td>Uni-Focal</td>\n",
       "      <td>Low</td>\n",
       "      <td>T1a</td>\n",
       "      <td>N0</td>\n",
       "      <td>M0</td>\n",
       "      <td>I</td>\n",
       "      <td>Excellent</td>\n",
       "      <td>No</td>\n",
       "    </tr>\n",
       "    <tr>\n",
       "      <th>4</th>\n",
       "      <td>62</td>\n",
       "      <td>F</td>\n",
       "      <td>No</td>\n",
       "      <td>No</td>\n",
       "      <td>No</td>\n",
       "      <td>Euthyroid</td>\n",
       "      <td>Multinodular goiter</td>\n",
       "      <td>No</td>\n",
       "      <td>Micropapillary</td>\n",
       "      <td>Multi-Focal</td>\n",
       "      <td>Low</td>\n",
       "      <td>T1a</td>\n",
       "      <td>N0</td>\n",
       "      <td>M0</td>\n",
       "      <td>I</td>\n",
       "      <td>Excellent</td>\n",
       "      <td>No</td>\n",
       "    </tr>\n",
       "    <tr>\n",
       "      <th>...</th>\n",
       "      <td>...</td>\n",
       "      <td>...</td>\n",
       "      <td>...</td>\n",
       "      <td>...</td>\n",
       "      <td>...</td>\n",
       "      <td>...</td>\n",
       "      <td>...</td>\n",
       "      <td>...</td>\n",
       "      <td>...</td>\n",
       "      <td>...</td>\n",
       "      <td>...</td>\n",
       "      <td>...</td>\n",
       "      <td>...</td>\n",
       "      <td>...</td>\n",
       "      <td>...</td>\n",
       "      <td>...</td>\n",
       "      <td>...</td>\n",
       "    </tr>\n",
       "    <tr>\n",
       "      <th>378</th>\n",
       "      <td>72</td>\n",
       "      <td>M</td>\n",
       "      <td>Yes</td>\n",
       "      <td>Yes</td>\n",
       "      <td>Yes</td>\n",
       "      <td>Euthyroid</td>\n",
       "      <td>Single nodular goiter-right</td>\n",
       "      <td>Right</td>\n",
       "      <td>Papillary</td>\n",
       "      <td>Uni-Focal</td>\n",
       "      <td>High</td>\n",
       "      <td>T4b</td>\n",
       "      <td>N1b</td>\n",
       "      <td>M1</td>\n",
       "      <td>IVB</td>\n",
       "      <td>Biochemical Incomplete</td>\n",
       "      <td>Yes</td>\n",
       "    </tr>\n",
       "    <tr>\n",
       "      <th>379</th>\n",
       "      <td>81</td>\n",
       "      <td>M</td>\n",
       "      <td>Yes</td>\n",
       "      <td>No</td>\n",
       "      <td>Yes</td>\n",
       "      <td>Euthyroid</td>\n",
       "      <td>Multinodular goiter</td>\n",
       "      <td>Extensive</td>\n",
       "      <td>Papillary</td>\n",
       "      <td>Multi-Focal</td>\n",
       "      <td>High</td>\n",
       "      <td>T4b</td>\n",
       "      <td>N1b</td>\n",
       "      <td>M1</td>\n",
       "      <td>IVB</td>\n",
       "      <td>Structural Incomplete</td>\n",
       "      <td>Yes</td>\n",
       "    </tr>\n",
       "    <tr>\n",
       "      <th>380</th>\n",
       "      <td>72</td>\n",
       "      <td>M</td>\n",
       "      <td>Yes</td>\n",
       "      <td>Yes</td>\n",
       "      <td>No</td>\n",
       "      <td>Euthyroid</td>\n",
       "      <td>Multinodular goiter</td>\n",
       "      <td>Bilateral</td>\n",
       "      <td>Papillary</td>\n",
       "      <td>Multi-Focal</td>\n",
       "      <td>High</td>\n",
       "      <td>T4b</td>\n",
       "      <td>N1b</td>\n",
       "      <td>M1</td>\n",
       "      <td>IVB</td>\n",
       "      <td>Structural Incomplete</td>\n",
       "      <td>Yes</td>\n",
       "    </tr>\n",
       "    <tr>\n",
       "      <th>381</th>\n",
       "      <td>61</td>\n",
       "      <td>M</td>\n",
       "      <td>Yes</td>\n",
       "      <td>Yes</td>\n",
       "      <td>Yes</td>\n",
       "      <td>Clinical Hyperthyroidism</td>\n",
       "      <td>Multinodular goiter</td>\n",
       "      <td>Extensive</td>\n",
       "      <td>Hurthel cell</td>\n",
       "      <td>Multi-Focal</td>\n",
       "      <td>High</td>\n",
       "      <td>T4b</td>\n",
       "      <td>N1b</td>\n",
       "      <td>M0</td>\n",
       "      <td>IVA</td>\n",
       "      <td>Structural Incomplete</td>\n",
       "      <td>Yes</td>\n",
       "    </tr>\n",
       "    <tr>\n",
       "      <th>382</th>\n",
       "      <td>67</td>\n",
       "      <td>M</td>\n",
       "      <td>Yes</td>\n",
       "      <td>No</td>\n",
       "      <td>No</td>\n",
       "      <td>Euthyroid</td>\n",
       "      <td>Multinodular goiter</td>\n",
       "      <td>Bilateral</td>\n",
       "      <td>Papillary</td>\n",
       "      <td>Multi-Focal</td>\n",
       "      <td>High</td>\n",
       "      <td>T4b</td>\n",
       "      <td>N1b</td>\n",
       "      <td>M0</td>\n",
       "      <td>IVA</td>\n",
       "      <td>Structural Incomplete</td>\n",
       "      <td>Yes</td>\n",
       "    </tr>\n",
       "  </tbody>\n",
       "</table>\n",
       "<p>383 rows × 17 columns</p>\n",
       "</div>"
      ]
     },
     "execution_count": 36,
     "metadata": {},
     "output_type": "execute_result"
    }
   ],
   "execution_count": 36
  },
  {
   "metadata": {},
   "cell_type": "markdown",
   "source": "### Split features and target variables",
   "id": "c00e21e3ceae3c1b"
  },
  {
   "metadata": {
    "ExecuteTime": {
     "end_time": "2024-08-25T23:42:36.196539Z",
     "start_time": "2024-08-25T23:42:36.193622Z"
    }
   },
   "cell_type": "code",
   "source": "X = df.drop(columns=['Recurred'],axis=1)",
   "id": "7e2fa8af70caab8",
   "outputs": [],
   "execution_count": 37
  },
  {
   "metadata": {
    "ExecuteTime": {
     "end_time": "2024-08-25T23:42:36.203510Z",
     "start_time": "2024-08-25T23:42:36.198049Z"
    }
   },
   "cell_type": "code",
   "source": "X.head()",
   "id": "290a274fb14a8aa4",
   "outputs": [
    {
     "data": {
      "text/plain": [
       "   Age Gender Smoking Hx Smoking Hx Radiothreapy Thyroid Function  \\\n",
       "0   27      F      No         No              No        Euthyroid   \n",
       "1   34      F      No        Yes              No        Euthyroid   \n",
       "2   30      F      No         No              No        Euthyroid   \n",
       "3   62      F      No         No              No        Euthyroid   \n",
       "4   62      F      No         No              No        Euthyroid   \n",
       "\n",
       "          Physical Examination Adenopathy       Pathology     Focality Risk  \\\n",
       "0   Single nodular goiter-left         No  Micropapillary    Uni-Focal  Low   \n",
       "1          Multinodular goiter         No  Micropapillary    Uni-Focal  Low   \n",
       "2  Single nodular goiter-right         No  Micropapillary    Uni-Focal  Low   \n",
       "3  Single nodular goiter-right         No  Micropapillary    Uni-Focal  Low   \n",
       "4          Multinodular goiter         No  Micropapillary  Multi-Focal  Low   \n",
       "\n",
       "     T   N   M Stage       Response  \n",
       "0  T1a  N0  M0     I  Indeterminate  \n",
       "1  T1a  N0  M0     I      Excellent  \n",
       "2  T1a  N0  M0     I      Excellent  \n",
       "3  T1a  N0  M0     I      Excellent  \n",
       "4  T1a  N0  M0     I      Excellent  "
      ],
      "text/html": [
       "<div>\n",
       "<style scoped>\n",
       "    .dataframe tbody tr th:only-of-type {\n",
       "        vertical-align: middle;\n",
       "    }\n",
       "\n",
       "    .dataframe tbody tr th {\n",
       "        vertical-align: top;\n",
       "    }\n",
       "\n",
       "    .dataframe thead th {\n",
       "        text-align: right;\n",
       "    }\n",
       "</style>\n",
       "<table border=\"1\" class=\"dataframe\">\n",
       "  <thead>\n",
       "    <tr style=\"text-align: right;\">\n",
       "      <th></th>\n",
       "      <th>Age</th>\n",
       "      <th>Gender</th>\n",
       "      <th>Smoking</th>\n",
       "      <th>Hx Smoking</th>\n",
       "      <th>Hx Radiothreapy</th>\n",
       "      <th>Thyroid Function</th>\n",
       "      <th>Physical Examination</th>\n",
       "      <th>Adenopathy</th>\n",
       "      <th>Pathology</th>\n",
       "      <th>Focality</th>\n",
       "      <th>Risk</th>\n",
       "      <th>T</th>\n",
       "      <th>N</th>\n",
       "      <th>M</th>\n",
       "      <th>Stage</th>\n",
       "      <th>Response</th>\n",
       "    </tr>\n",
       "  </thead>\n",
       "  <tbody>\n",
       "    <tr>\n",
       "      <th>0</th>\n",
       "      <td>27</td>\n",
       "      <td>F</td>\n",
       "      <td>No</td>\n",
       "      <td>No</td>\n",
       "      <td>No</td>\n",
       "      <td>Euthyroid</td>\n",
       "      <td>Single nodular goiter-left</td>\n",
       "      <td>No</td>\n",
       "      <td>Micropapillary</td>\n",
       "      <td>Uni-Focal</td>\n",
       "      <td>Low</td>\n",
       "      <td>T1a</td>\n",
       "      <td>N0</td>\n",
       "      <td>M0</td>\n",
       "      <td>I</td>\n",
       "      <td>Indeterminate</td>\n",
       "    </tr>\n",
       "    <tr>\n",
       "      <th>1</th>\n",
       "      <td>34</td>\n",
       "      <td>F</td>\n",
       "      <td>No</td>\n",
       "      <td>Yes</td>\n",
       "      <td>No</td>\n",
       "      <td>Euthyroid</td>\n",
       "      <td>Multinodular goiter</td>\n",
       "      <td>No</td>\n",
       "      <td>Micropapillary</td>\n",
       "      <td>Uni-Focal</td>\n",
       "      <td>Low</td>\n",
       "      <td>T1a</td>\n",
       "      <td>N0</td>\n",
       "      <td>M0</td>\n",
       "      <td>I</td>\n",
       "      <td>Excellent</td>\n",
       "    </tr>\n",
       "    <tr>\n",
       "      <th>2</th>\n",
       "      <td>30</td>\n",
       "      <td>F</td>\n",
       "      <td>No</td>\n",
       "      <td>No</td>\n",
       "      <td>No</td>\n",
       "      <td>Euthyroid</td>\n",
       "      <td>Single nodular goiter-right</td>\n",
       "      <td>No</td>\n",
       "      <td>Micropapillary</td>\n",
       "      <td>Uni-Focal</td>\n",
       "      <td>Low</td>\n",
       "      <td>T1a</td>\n",
       "      <td>N0</td>\n",
       "      <td>M0</td>\n",
       "      <td>I</td>\n",
       "      <td>Excellent</td>\n",
       "    </tr>\n",
       "    <tr>\n",
       "      <th>3</th>\n",
       "      <td>62</td>\n",
       "      <td>F</td>\n",
       "      <td>No</td>\n",
       "      <td>No</td>\n",
       "      <td>No</td>\n",
       "      <td>Euthyroid</td>\n",
       "      <td>Single nodular goiter-right</td>\n",
       "      <td>No</td>\n",
       "      <td>Micropapillary</td>\n",
       "      <td>Uni-Focal</td>\n",
       "      <td>Low</td>\n",
       "      <td>T1a</td>\n",
       "      <td>N0</td>\n",
       "      <td>M0</td>\n",
       "      <td>I</td>\n",
       "      <td>Excellent</td>\n",
       "    </tr>\n",
       "    <tr>\n",
       "      <th>4</th>\n",
       "      <td>62</td>\n",
       "      <td>F</td>\n",
       "      <td>No</td>\n",
       "      <td>No</td>\n",
       "      <td>No</td>\n",
       "      <td>Euthyroid</td>\n",
       "      <td>Multinodular goiter</td>\n",
       "      <td>No</td>\n",
       "      <td>Micropapillary</td>\n",
       "      <td>Multi-Focal</td>\n",
       "      <td>Low</td>\n",
       "      <td>T1a</td>\n",
       "      <td>N0</td>\n",
       "      <td>M0</td>\n",
       "      <td>I</td>\n",
       "      <td>Excellent</td>\n",
       "    </tr>\n",
       "  </tbody>\n",
       "</table>\n",
       "</div>"
      ]
     },
     "execution_count": 38,
     "metadata": {},
     "output_type": "execute_result"
    }
   ],
   "execution_count": 38
  },
  {
   "metadata": {
    "ExecuteTime": {
     "end_time": "2024-08-25T23:42:36.206380Z",
     "start_time": "2024-08-25T23:42:36.204415Z"
    }
   },
   "cell_type": "code",
   "source": "y = df['Recurred']",
   "id": "92789ab9cbb2460",
   "outputs": [],
   "execution_count": 39
  },
  {
   "metadata": {
    "ExecuteTime": {
     "end_time": "2024-08-25T23:42:36.210432Z",
     "start_time": "2024-08-25T23:42:36.207224Z"
    }
   },
   "cell_type": "code",
   "source": "y.head()",
   "id": "669faa4f8fa5f94a",
   "outputs": [
    {
     "data": {
      "text/plain": [
       "0    No\n",
       "1    No\n",
       "2    No\n",
       "3    No\n",
       "4    No\n",
       "Name: Recurred, dtype: object"
      ]
     },
     "execution_count": 40,
     "metadata": {},
     "output_type": "execute_result"
    }
   ],
   "execution_count": 40
  },
  {
   "metadata": {},
   "cell_type": "markdown",
   "source": "### Feature Column transformations",
   "id": "4824b175e4b97f42"
  },
  {
   "metadata": {
    "ExecuteTime": {
     "end_time": "2024-08-25T23:42:36.214315Z",
     "start_time": "2024-08-25T23:42:36.211360Z"
    }
   },
   "cell_type": "code",
   "source": [
    "ohe_columns = ['Gender', 'Smoking', 'Hx Smoking', 'Hx Radiothreapy', 'Thyroid Function', 'Physical Examination', 'Adenopathy', 'Pathology', 'Focality', 'Response']\n",
    "oe_columns = ['Risk', 'T', 'N', 'M', 'Stage']\n",
    "numeric_features = ['Age']\n"
   ],
   "id": "2a47d34003c210a2",
   "outputs": [],
   "execution_count": 41
  },
  {
   "metadata": {
    "ExecuteTime": {
     "end_time": "2024-08-25T23:42:36.217187Z",
     "start_time": "2024-08-25T23:42:36.215183Z"
    }
   },
   "cell_type": "code",
   "source": [
    "# Encoder objects\n",
    "ohe = OneHotEncoder()\n",
    "oe = OrdinalEncoder()\n",
    "ss = StandardScaler()\n"
   ],
   "id": "cbaf70b5db044a08",
   "outputs": [],
   "execution_count": 42
  },
  {
   "metadata": {
    "ExecuteTime": {
     "end_time": "2024-08-25T23:42:36.220398Z",
     "start_time": "2024-08-25T23:42:36.218073Z"
    }
   },
   "cell_type": "code",
   "source": [
    "# Fit transform those columns\n",
    "preprocessor = ColumnTransformer(\n",
    "    [\n",
    "        ('OneHotEncoder', ohe, ohe_columns),\n",
    "        ('OrdinalEncoder', oe, oe_columns),\n",
    "        ('StandardScaler', ss, numeric_features)\n",
    "    ]\n",
    ")"
   ],
   "id": "c22e1c95f3ffa95d",
   "outputs": [],
   "execution_count": 43
  },
  {
   "metadata": {
    "ExecuteTime": {
     "end_time": "2024-08-25T23:42:36.232571Z",
     "start_time": "2024-08-25T23:42:36.221881Z"
    }
   },
   "cell_type": "code",
   "source": "X = preprocessor.fit_transform(X)",
   "id": "48631032531c2c51",
   "outputs": [],
   "execution_count": 44
  },
  {
   "metadata": {
    "ExecuteTime": {
     "end_time": "2024-08-25T23:42:36.236131Z",
     "start_time": "2024-08-25T23:42:36.233502Z"
    }
   },
   "cell_type": "code",
   "source": "X.shape",
   "id": "bf12dadb9609207f",
   "outputs": [
    {
     "data": {
      "text/plain": [
       "(383, 40)"
      ]
     },
     "execution_count": 45,
     "metadata": {},
     "output_type": "execute_result"
    }
   ],
   "execution_count": 45
  },
  {
   "metadata": {},
   "cell_type": "markdown",
   "source": "### Converting categorical Target variable to numerical",
   "id": "1cd893eae7d7cf9d"
  },
  {
   "metadata": {
    "ExecuteTime": {
     "end_time": "2024-08-25T23:42:36.238929Z",
     "start_time": "2024-08-25T23:42:36.237196Z"
    }
   },
   "cell_type": "code",
   "source": [
    "# Create LabelEncoder Instance\n",
    "le = LabelEncoder()"
   ],
   "id": "97720d921c029dd8",
   "outputs": [],
   "execution_count": 46
  },
  {
   "metadata": {
    "ExecuteTime": {
     "end_time": "2024-08-25T23:42:36.290372Z",
     "start_time": "2024-08-25T23:42:36.287928Z"
    }
   },
   "cell_type": "code",
   "source": "y = le.fit_transform(df['Recurred'])",
   "id": "d5c4d0752f4576a3",
   "outputs": [],
   "execution_count": 47
  },
  {
   "metadata": {
    "ExecuteTime": {
     "end_time": "2024-08-25T23:42:36.350940Z",
     "start_time": "2024-08-25T23:42:36.346751Z"
    }
   },
   "cell_type": "code",
   "source": "y.shape",
   "id": "a6ca006da9e84cea",
   "outputs": [
    {
     "data": {
      "text/plain": [
       "(383,)"
      ]
     },
     "execution_count": 48,
     "metadata": {},
     "output_type": "execute_result"
    }
   ],
   "execution_count": 48
  },
  {
   "cell_type": "markdown",
   "id": "3bab5382",
   "metadata": {},
   "source": "### Train test split"
  },
  {
   "cell_type": "code",
   "id": "584f330e",
   "metadata": {
    "ExecuteTime": {
     "end_time": "2024-08-25T23:42:36.430679Z",
     "start_time": "2024-08-25T23:42:36.424761Z"
    }
   },
   "source": [
    "X_train, X_test, y_train, y_test = train_test_split(X,y,test_size=0.2,random_state=42)\n",
    "X_train.shape, X_test.shape"
   ],
   "outputs": [
    {
     "data": {
      "text/plain": [
       "((306, 40), (77, 40))"
      ]
     },
     "execution_count": 49,
     "metadata": {},
     "output_type": "execute_result"
    }
   ],
   "execution_count": 49
  },
  {
   "cell_type": "markdown",
   "id": "2c0542d2",
   "metadata": {},
   "source": [
    "## 3. Initial Model Training and Evaluation\n",
    "\n"
   ]
  },
  {
   "cell_type": "code",
   "id": "1460ea89",
   "metadata": {
    "ExecuteTime": {
     "end_time": "2024-08-25T23:42:36.558676Z",
     "start_time": "2024-08-25T23:42:36.556069Z"
    }
   },
   "source": [
    "def evaluate_model(true, predicted):\n",
    "    \"\"\"Function to measure model performance\"\"\"\n",
    "    cm = confusion_matrix(true, predicted)\n",
    "    accuracy = accuracy_score(true, predicted)\n",
    "    precision = precision_score(true, predicted)\n",
    "    recall = recall_score(true, predicted)\n",
    "    f1 = f1_score(true, predicted)\n",
    "    fpr, tpr, thresholds = roc_curve(true, predicted) \n",
    "    roc_auc = auc(fpr, tpr) \n",
    "    return cm, accuracy, precision, recall, f1, roc_auc\n",
    "    "
   ],
   "outputs": [],
   "execution_count": 50
  },
  {
   "metadata": {
    "ExecuteTime": {
     "end_time": "2024-08-25T23:42:36.580895Z",
     "start_time": "2024-08-25T23:42:36.578345Z"
    }
   },
   "cell_type": "code",
   "source": [
    "# Models to be evaluated\n",
    "models = {\n",
    "    \"Logistic Regression\": LogisticRegression(),\n",
    "    \"K-Neighbors Classifier\": KNeighborsClassifier(),\n",
    "    \"Decision Tree\": DecisionTreeClassifier(),\n",
    "    \"Random Forest Classifier\": RandomForestClassifier(),\n",
    "    \"SVM Classifier\": SVC(),\n",
    "}\n"
   ],
   "id": "b24ca08367682436",
   "outputs": [],
   "execution_count": 51
  },
  {
   "metadata": {
    "ExecuteTime": {
     "end_time": "2024-08-25T23:42:36.583980Z",
     "start_time": "2024-08-25T23:42:36.581922Z"
    }
   },
   "cell_type": "code",
   "source": [
    "model_list = []\n",
    "metrics_list = []"
   ],
   "id": "e5615b669e3bc6b4",
   "outputs": [],
   "execution_count": 52
  },
  {
   "metadata": {
    "ExecuteTime": {
     "end_time": "2024-08-25T23:43:52.993404Z",
     "start_time": "2024-08-25T23:43:52.801553Z"
    }
   },
   "cell_type": "code",
   "source": [
    "for i in range(len(list(models))):\n",
    "    model = list(models.values())[i]\n",
    "    model.fit(X_train, y_train) # Train model\n",
    "\n",
    "    # Make predictions\n",
    "    y_train_pred = model.predict(X_train)\n",
    "    y_test_pred = model.predict(X_test)\n",
    "    \n",
    "    # Evaluate Train and Test dataset\n",
    "    model_train_cm , model_train_accuracy, model_train_precision, model_train_recall, model_train_f1, model_train_roc_auc = evaluate_model(y_train, y_train_pred)\n",
    "\n",
    "    model_test_cm , model_test_accuracy, model_test_precision, model_test_recall, model_test_f1, model_test_roc_auc = evaluate_model(y_test, y_test_pred)\n",
    "\n",
    "    \n",
    "    print(list(models.keys())[i])\n",
    "    model_list.append(list(models.keys())[i])\n",
    "    # TODO: Fix issue causing model names to not appear correctly in final results table.\n",
    "    print('Model performance for Training set')\n",
    "    print(f\"- Confusion Matrix: {model_train_cm}\")\n",
    "    print(\"- Accuracy: {:.4f}\".format(model_train_accuracy))\n",
    "    print(\"- Precision: {:.4f}\".format(model_train_precision))\n",
    "    print(\"- Recall: {:.4f}\".format(model_train_recall))\n",
    "    print(\"- F1 Score: {:.4f}\".format(model_train_f1))\n",
    "    print(\"- ROC_AUC: {:.4f}\".format(model_train_roc_auc))\n",
    "\n",
    "    print('----------------------------------')\n",
    "    \n",
    "    print('Model performance for Test set')\n",
    "    print(f\"- Confusion Matrix: {model_test_cm}\")\n",
    "    print(\"- Accuracy: {:.4f}\".format(model_test_accuracy))\n",
    "    print(\"- Precision: {:.4f}\".format(model_test_precision))\n",
    "    print(\"- Recall: {:.4f}\".format(model_test_recall))\n",
    "    print(\"- F1 Score: {:.4f}\".format(model_test_f1))\n",
    "    print(\"- ROC_AUC: {:.4f}\".format(model_test_roc_auc))\n",
    "    metrics_list.append([model_test_precision, model_test_recall, model_test_roc_auc])\n",
    "    \n",
    "    print('='*35)\n",
    "    print('\\n')"
   ],
   "id": "2400fb3e3dcb83eb",
   "outputs": [
    {
     "name": "stdout",
     "output_type": "stream",
     "text": [
      "Logistic Regression\n",
      "Model performance for Training set\n",
      "- Confusion Matrix: [[215   2]\n",
      " [  8  81]]\n",
      "- Accuracy: 0.9673\n",
      "- Precision: 0.9759\n",
      "- Recall: 0.9101\n",
      "- F1 Score: 0.9419\n",
      "- ROC_AUC: 0.9504\n",
      "----------------------------------\n",
      "Model performance for Test set\n",
      "- Confusion Matrix: [[58  0]\n",
      " [ 2 17]]\n",
      "- Accuracy: 0.9740\n",
      "- Precision: 1.0000\n",
      "- Recall: 0.8947\n",
      "- F1 Score: 0.9444\n",
      "- ROC_AUC: 0.9474\n",
      "===================================\n",
      "\n",
      "\n",
      "K-Neighbors Classifier\n",
      "Model performance for Training set\n",
      "- Confusion Matrix: [[213   4]\n",
      " [ 17  72]]\n",
      "- Accuracy: 0.9314\n",
      "- Precision: 0.9474\n",
      "- Recall: 0.8090\n",
      "- F1 Score: 0.8727\n",
      "- ROC_AUC: 0.8953\n",
      "----------------------------------\n",
      "Model performance for Test set\n",
      "- Confusion Matrix: [[57  1]\n",
      " [ 4 15]]\n",
      "- Accuracy: 0.9351\n",
      "- Precision: 0.9375\n",
      "- Recall: 0.7895\n",
      "- F1 Score: 0.8571\n",
      "- ROC_AUC: 0.8861\n",
      "===================================\n",
      "\n",
      "\n",
      "Decision Tree\n",
      "Model performance for Training set\n",
      "- Confusion Matrix: [[217   0]\n",
      " [  0  89]]\n",
      "- Accuracy: 1.0000\n",
      "- Precision: 1.0000\n",
      "- Recall: 1.0000\n",
      "- F1 Score: 1.0000\n",
      "- ROC_AUC: 1.0000\n",
      "----------------------------------\n",
      "Model performance for Test set\n",
      "- Confusion Matrix: [[56  2]\n",
      " [ 1 18]]\n",
      "- Accuracy: 0.9610\n",
      "- Precision: 0.9000\n",
      "- Recall: 0.9474\n",
      "- F1 Score: 0.9231\n",
      "- ROC_AUC: 0.9564\n",
      "===================================\n",
      "\n",
      "\n",
      "Random Forest Classifier\n",
      "Model performance for Training set\n",
      "- Confusion Matrix: [[217   0]\n",
      " [  0  89]]\n",
      "- Accuracy: 1.0000\n",
      "- Precision: 1.0000\n",
      "- Recall: 1.0000\n",
      "- F1 Score: 1.0000\n",
      "- ROC_AUC: 1.0000\n",
      "----------------------------------\n",
      "Model performance for Test set\n",
      "- Confusion Matrix: [[58  0]\n",
      " [ 1 18]]\n",
      "- Accuracy: 0.9870\n",
      "- Precision: 1.0000\n",
      "- Recall: 0.9474\n",
      "- F1 Score: 0.9730\n",
      "- ROC_AUC: 0.9737\n",
      "===================================\n",
      "\n",
      "\n",
      "SVM Classifier\n",
      "Model performance for Training set\n",
      "- Confusion Matrix: [[215   2]\n",
      " [ 10  79]]\n",
      "- Accuracy: 0.9608\n",
      "- Precision: 0.9753\n",
      "- Recall: 0.8876\n",
      "- F1 Score: 0.9294\n",
      "- ROC_AUC: 0.9392\n",
      "----------------------------------\n",
      "Model performance for Test set\n",
      "- Confusion Matrix: [[58  0]\n",
      " [ 2 17]]\n",
      "- Accuracy: 0.9740\n",
      "- Precision: 1.0000\n",
      "- Recall: 0.8947\n",
      "- F1 Score: 0.9444\n",
      "- ROC_AUC: 0.9474\n",
      "===================================\n",
      "\n",
      "\n"
     ]
    }
   ],
   "execution_count": 55
  },
  {
   "cell_type": "markdown",
   "id": "9bf9acb4",
   "metadata": {},
   "source": "## 4. Initial Model Evaluation"
  },
  {
   "cell_type": "code",
   "id": "2111d166",
   "metadata": {
    "ExecuteTime": {
     "end_time": "2024-08-25T23:48:00.443886Z",
     "start_time": "2024-08-25T23:48:00.438743Z"
    }
   },
   "source": "pd.DataFrame(list(zip(model_list, metrics_list)), columns=['Model Name', 'mtp, mtr, mt_roc_auc']).sort_values(by=[\"mtp, mtr, mt_roc_auc\"],ascending=False)",
   "outputs": [
    {
     "data": {
      "text/plain": [
       "               Model Name                              mtp, mtr, mt_roc_auc\n",
       "3  K-Neighbors Classifier     [1.0, 0.9473684210526315, 0.9736842105263157]\n",
       "0     Logistic Regression     [1.0, 0.8947368421052632, 0.9473684210526316]\n",
       "4           Decision Tree     [1.0, 0.8947368421052632, 0.9473684210526316]\n",
       "1     Logistic Regression  [0.9375, 0.7894736842105263, 0.8861161524500907]\n",
       "2     Logistic Regression     [0.9, 0.9473684210526315, 0.9564428312159708]"
      ],
      "text/html": [
       "<div>\n",
       "<style scoped>\n",
       "    .dataframe tbody tr th:only-of-type {\n",
       "        vertical-align: middle;\n",
       "    }\n",
       "\n",
       "    .dataframe tbody tr th {\n",
       "        vertical-align: top;\n",
       "    }\n",
       "\n",
       "    .dataframe thead th {\n",
       "        text-align: right;\n",
       "    }\n",
       "</style>\n",
       "<table border=\"1\" class=\"dataframe\">\n",
       "  <thead>\n",
       "    <tr style=\"text-align: right;\">\n",
       "      <th></th>\n",
       "      <th>Model Name</th>\n",
       "      <th>mtp, mtr, mt_roc_auc</th>\n",
       "    </tr>\n",
       "  </thead>\n",
       "  <tbody>\n",
       "    <tr>\n",
       "      <th>3</th>\n",
       "      <td>K-Neighbors Classifier</td>\n",
       "      <td>[1.0, 0.9473684210526315, 0.9736842105263157]</td>\n",
       "    </tr>\n",
       "    <tr>\n",
       "      <th>0</th>\n",
       "      <td>Logistic Regression</td>\n",
       "      <td>[1.0, 0.8947368421052632, 0.9473684210526316]</td>\n",
       "    </tr>\n",
       "    <tr>\n",
       "      <th>4</th>\n",
       "      <td>Decision Tree</td>\n",
       "      <td>[1.0, 0.8947368421052632, 0.9473684210526316]</td>\n",
       "    </tr>\n",
       "    <tr>\n",
       "      <th>1</th>\n",
       "      <td>Logistic Regression</td>\n",
       "      <td>[0.9375, 0.7894736842105263, 0.8861161524500907]</td>\n",
       "    </tr>\n",
       "    <tr>\n",
       "      <th>2</th>\n",
       "      <td>Logistic Regression</td>\n",
       "      <td>[0.9, 0.9473684210526315, 0.9564428312159708]</td>\n",
       "    </tr>\n",
       "  </tbody>\n",
       "</table>\n",
       "</div>"
      ]
     },
     "execution_count": 59,
     "metadata": {},
     "output_type": "execute_result"
    }
   ],
   "execution_count": 59
  },
  {
   "metadata": {},
   "cell_type": "markdown",
   "source": "## Feature Selection",
   "id": "e3af8930da932595"
  },
  {
   "cell_type": "markdown",
   "id": "f8d486a6",
   "metadata": {},
   "source": "## 5. Hyperparameter Tuning"
  },
  {
   "cell_type": "code",
   "id": "dc3cf0f2",
   "metadata": {},
   "source": [],
   "outputs": [],
   "execution_count": null
  },
  {
   "metadata": {},
   "cell_type": "code",
   "source": "",
   "id": "ec537722942022d3",
   "outputs": [],
   "execution_count": null
  },
  {
   "metadata": {},
   "cell_type": "markdown",
   "source": "## 6. Impact of Over or Under Sampling\n",
   "id": "88de057cfc6986a0"
  },
  {
   "metadata": {},
   "cell_type": "code",
   "source": "",
   "id": "1e09f327dc24dc52",
   "outputs": [],
   "execution_count": null
  },
  {
   "cell_type": "markdown",
   "id": "7e5e5f24",
   "metadata": {},
   "source": [
    "### Observations"
   ]
  }
 ],
 "metadata": {
  "kernelspec": {
   "display_name": "Python 3",
   "language": "python",
   "name": "python3"
  },
  "language_info": {
   "codemirror_mode": {
    "name": "ipython",
    "version": 2
   },
   "file_extension": ".py",
   "mimetype": "text/x-python",
   "name": "python",
   "nbconvert_exporter": "python",
   "pygments_lexer": "ipython2",
   "version": "2.7.6"
  }
 },
 "nbformat": 4,
 "nbformat_minor": 5
}
