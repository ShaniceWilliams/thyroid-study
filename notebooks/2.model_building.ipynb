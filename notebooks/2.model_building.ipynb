{
 "cells": [
  {
   "cell_type": "markdown",
   "id": "f702818cc5eaffd8",
   "metadata": {},
   "source": [
    "# Predicting Thyroid Cancer Recurrence - Model Building"
   ]
  },
  {
   "cell_type": "markdown",
   "id": "d5749a87426281ef",
   "metadata": {},
   "source": [
    "### Purpose of this notebook\n",
    "To explore the models that were used for this study, optimise feature selection and find the most performant models."
   ]
  },
  {
   "cell_type": "markdown",
   "id": "8d393b7fa5a64ab4",
   "metadata": {},
   "source": [
    "## 1. Imports and Loading data"
   ]
  },
  {
   "cell_type": "code",
   "execution_count": null,
   "id": "feddd0b2050665fb",
   "metadata": {},
   "outputs": [],
   "source": [
    "# imports\n",
    "import pandas as pd\n",
    "import numpy as np\n",
    "import matplotlib.pyplot as plt\n",
    "import seaborn as sns\n",
    "\n",
    "# SciKit-learn imports\n",
    "from sklearn.model_selection import train_test_split\n"
   ]
  },
  {
   "cell_type": "code",
   "execution_count": null,
   "id": "initial_id",
   "metadata": {
    "collapsed": true
   },
   "outputs": [],
   "source": [
    "file_path = \"../data/raw/Thyroid_Diff.csv\"\n",
    "df = pd.read_csv(file_path)"
   ]
  },
  {
   "cell_type": "markdown",
   "id": "eb8d045d6bc7f176",
   "metadata": {},
   "source": [
    "## 2. Data Transformation"
   ]
  },
  {
   "cell_type": "markdown",
   "id": "676868ee16987d7c",
   "metadata": {},
   "source": [
    "What transformations are required?\n",
    "- Update Hx Radiotherapy spelling error\n",
    "- Use the pipeline established in the EDA to transform categorical daata into numerical form\n",
    "- Establish if transformation of the numerical field is necessary based on the types of models that will be used.\n",
    "- transformation of the class variable"
   ]
  },
  {
   "cell_type": "code",
   "execution_count": null,
   "id": "06dd1c33",
   "metadata": {},
   "outputs": [],
   "source": [
    "df.rename()"
   ]
  },
  {
   "cell_type": "markdown",
   "id": "3bab5382",
   "metadata": {},
   "source": [
    "## 3. Baseline"
   ]
  },
  {
   "cell_type": "code",
   "execution_count": null,
   "id": "584f330e",
   "metadata": {},
   "outputs": [],
   "source": []
  },
  {
   "cell_type": "markdown",
   "id": "2c0542d2",
   "metadata": {},
   "source": [
    "## 4. Feature Selection\n"
   ]
  },
  {
   "cell_type": "code",
   "execution_count": null,
   "id": "1460ea89",
   "metadata": {},
   "outputs": [],
   "source": []
  },
  {
   "cell_type": "markdown",
   "id": "9bf9acb4",
   "metadata": {},
   "source": [
    "## 5. Initial Model Evaluation"
   ]
  },
  {
   "cell_type": "code",
   "execution_count": null,
   "id": "2111d166",
   "metadata": {},
   "outputs": [],
   "source": []
  },
  {
   "cell_type": "markdown",
   "id": "f8d486a6",
   "metadata": {},
   "source": [
    "## 6. Hyperparameter Tuning"
   ]
  },
  {
   "cell_type": "code",
   "execution_count": null,
   "id": "dc3cf0f2",
   "metadata": {},
   "outputs": [],
   "source": []
  },
  {
   "cell_type": "markdown",
   "id": "7e5e5f24",
   "metadata": {},
   "source": [
    "### Observations"
   ]
  }
 ],
 "metadata": {
  "kernelspec": {
   "display_name": "Python 3",
   "language": "python",
   "name": "python3"
  },
  "language_info": {
   "codemirror_mode": {
    "name": "ipython",
    "version": 2
   },
   "file_extension": ".py",
   "mimetype": "text/x-python",
   "name": "python",
   "nbconvert_exporter": "python",
   "pygments_lexer": "ipython2",
   "version": "2.7.6"
  }
 },
 "nbformat": 4,
 "nbformat_minor": 5
}
